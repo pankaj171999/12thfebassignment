{
 "cells": [
  {
   "cell_type": "code",
   "execution_count": null,
   "id": "f1074c3d-cd6b-49bd-9049-7de2b3e11e8e",
   "metadata": {},
   "outputs": [],
   "source": [
    "\"\"\"Q1(Ans)- An Exception is an error that happens during the execution of a program. Whenever there is an error, Python generates an exception that could be handled. It basically prevents the program from getting crashed.\n",
    "\n",
    "Logical errors(Exception)\n",
    "When in the runtime an error that occurs after passing the syntax test is called exception \n",
    "Example\n",
    "marks = 10000\n",
    "a = marks / 0\n",
    "print(a)\n",
    "\n",
    "Syntax errors\n",
    "When the proper syntax of the language is not followed then a syntax error is thrown.\n",
    "Example \n",
    "amount = 10000\n",
    "if(amount>2999):\n",
    "    print(\"You are eligible to purchase Dsa Self Paced\")\"\"\""
   ]
  },
  {
   "cell_type": "code",
   "execution_count": null,
   "id": "3583c3c7-9812-4df3-b89f-498eee970d9d",
   "metadata": {},
   "outputs": [],
   "source": [
    "\"\"\"Q2(Ans)- When an exception occurs, and if you don’t handle it, the program will terminate abruptly (the piece of code after the line causing the exception will not get executed).\n",
    "Example\n",
    "Generally, an array is of fixed size and each element is accessed using the indices. For example, we have created an array with size 7. Then the valid expressions to access the elements of this array will be a[0] to a[6] (length-1).\n",
    "\n",
    "Whenever, you used an –ve value or, the value greater than or equal to the size of the array, then the ArrayIndexOutOfBoundsException is thrown.\"\"\""
   ]
  },
  {
   "cell_type": "code",
   "execution_count": 1,
   "id": "1a3c8493-51bc-4580-bad0-3ec87cae6a64",
   "metadata": {},
   "outputs": [
    {
     "name": "stdout",
     "output_type": "stream",
     "text": [
      "Second element = 2\n",
      "An error occurred\n"
     ]
    }
   ],
   "source": [
    "#Q3(Ans)- The try and except block in Python is used to catch and handle exceptions. Python executes code following the try statement as a “normal” part of the program. \n",
    "#The code that follows the except statement is the program's response to any exceptions in the preceding try clause.\n",
    "a = [1, 2, 3]\n",
    "try:\n",
    "    print (\"Second element = %d\" %(a[1]))\n",
    "    print (\"Fourth element = %d\" %(a[3]))\n",
    "except:\n",
    "    print (\"An error occurred\")"
   ]
  },
  {
   "cell_type": "code",
   "execution_count": 4,
   "id": "75d9aa99-64f6-4d8b-aef3-93b86a2a43f4",
   "metadata": {},
   "outputs": [
    {
     "name": "stdout",
     "output_type": "stream",
     "text": [
      "a/b result in 0\n"
     ]
    },
    {
     "name": "stdin",
     "output_type": "stream",
     "text": [
      "enter a number 0\n"
     ]
    },
    {
     "name": "stdout",
     "output_type": "stream",
     "text": [
      "Can't divide by zero division by zero\n",
      "This is always executed\n"
     ]
    },
    {
     "name": "stdin",
     "output_type": "stream",
     "text": [
      "Please enter your roll number -5\n"
     ]
    },
    {
     "name": "stdout",
     "output_type": "stream",
     "text": [
      "ValueError Exception thrown The number entered is not positive\n"
     ]
    }
   ],
   "source": [
    "#Q4(Ans)-Try with Else \n",
    "#In python, you can also use the else clause on the try-except block which must be present after all the except clauses. \n",
    "#The code enters the else block only if the try clause does not raise an exception.\n",
    "def number(a , b):\n",
    "    try:\n",
    "        c = ((a+b) / (a-b))\n",
    "    except ZeroDivisionError as e:\n",
    "        print (\"a/b result in 0\")\n",
    "    else:\n",
    "        print (c)\n",
    "number(3,3)  \n",
    "\n",
    "#finally-Python provides a keyword finally, which is always executed after the try and except blocks. \n",
    "#The final block always executes after normal termination of try block or after try block terminates due to some exception.\n",
    "try:\n",
    "    n=int(input(\"enter a number\"))\n",
    "    k = 5/n  \n",
    "    print(k)\n",
    "except ZeroDivisionError as e:\n",
    "    print(\"Can't divide by zero\",e)\n",
    "finally:\n",
    "    print('This is always executed')\n",
    "\n",
    "#Raise-The raise statement allows the programmer to force a specific exception to occur. The sole argument in raise indicates the exception to be raised. \n",
    "#This must be either an exception instance or an exception class (a class that derives from Exception). \n",
    "try:\n",
    "    roll = int(input(\"Please enter your roll number\"))\n",
    "    if roll <= 0:\n",
    "        raise ValueError(\"The number entered is not positive\")\n",
    "\n",
    "except ValueError as e:\n",
    "    print(\"ValueError Exception thrown\",e)\n",
    "    \n"
   ]
  },
  {
   "cell_type": "code",
   "execution_count": 9,
   "id": "52e9560a-26b3-4bf0-975c-8fd290494ca9",
   "metadata": {},
   "outputs": [
    {
     "name": "stdin",
     "output_type": "stream",
     "text": [
      "Enter a number:  14\n"
     ]
    },
    {
     "name": "stdout",
     "output_type": "stream",
     "text": [
      "Exception occurred: Invalid Age\n"
     ]
    }
   ],
   "source": [
    "#Q5(Ans)custom Ex-User-defined Exceptions are special-purpose exceptions, created by the developer for the particular function performed by the program. \n",
    "#These exceptions are built to ensure that the part of the program executes in proper flow\n",
    "\n",
    "#Custom exceptions provide you the flexibility to add attributes and methods that are not part of a standard python exception. \n",
    "#These can store additional information, like an application-specific error code, or provide utility methods that can be used to handle or present the exception to a user.\n",
    "\n",
    "#Example\n",
    "# define Python user-defined exceptions\n",
    "class InvalidAgeException(Exception):\n",
    "    \"Raised when the input value is less than 18\"\n",
    "    pass\n",
    "\n",
    "number = 18\n",
    "\n",
    "try:\n",
    "    input_num = int(input(\"Enter a number: \"))\n",
    "    if input_num < number:\n",
    "        raise InvalidAgeException\n",
    "    else:\n",
    "        print(\"Eligible to Vote\")\n",
    "        \n",
    "except InvalidAgeException as e:\n",
    "    print(\"Exception occurred: Invalid Age\")"
   ]
  },
  {
   "cell_type": "code",
   "execution_count": 4,
   "id": "1407d803-7fa0-42be-b9fd-afd7f784e0fe",
   "metadata": {},
   "outputs": [],
   "source": [
    "#Q6(Ans)\n",
    "class driving_licence(Exception):\n",
    "    def __init__(self,msg):\n",
    "        self.msg=msg"
   ]
  },
  {
   "cell_type": "code",
   "execution_count": 5,
   "id": "374ee6d8-0f87-487a-835f-729d719e73c3",
   "metadata": {},
   "outputs": [
    {
     "ename": "IndentationError",
     "evalue": "expected an indented block after 'try' statement on line 6 (3738451136.py, line 7)",
     "output_type": "error",
     "traceback": [
      "\u001b[0;36m  Cell \u001b[0;32mIn[5], line 7\u001b[0;36m\u001b[0m\n\u001b[0;31m    age=int(input(\"enter a number\"))\u001b[0m\n\u001b[0m    ^\u001b[0m\n\u001b[0;31mIndentationError\u001b[0m\u001b[0;31m:\u001b[0m expected an indented block after 'try' statement on line 6\n"
     ]
    }
   ],
   "source": [
    "    def driverLicence(age):\n",
    "        if age < 18:\n",
    "            raise driving_licence(\"you are under age for driving licence\")\n",
    "        else :\n",
    "            print(\"you will get driving licence\")\n",
    "try:\n",
    "    age=int(input(\"enter a number\"))  \n",
    "    driverLicence(age)    \n",
    "        \n",
    "except driving_licence as e:\n",
    "    print(e)\n",
    "            \n",
    "        "
   ]
  },
  {
   "cell_type": "code",
   "execution_count": null,
   "id": "af809355-71aa-4f77-8f27-1528fdad0e66",
   "metadata": {},
   "outputs": [],
   "source": []
  }
 ],
 "metadata": {
  "kernelspec": {
   "display_name": "Python 3 (ipykernel)",
   "language": "python",
   "name": "python3"
  },
  "language_info": {
   "codemirror_mode": {
    "name": "ipython",
    "version": 3
   },
   "file_extension": ".py",
   "mimetype": "text/x-python",
   "name": "python",
   "nbconvert_exporter": "python",
   "pygments_lexer": "ipython3",
   "version": "3.10.8"
  }
 },
 "nbformat": 4,
 "nbformat_minor": 5
}
